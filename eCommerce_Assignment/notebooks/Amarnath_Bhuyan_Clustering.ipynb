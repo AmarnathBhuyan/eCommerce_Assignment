{
 "cells": [
  {
   "cell_type": "code",
   "execution_count": null,
   "id": "56101561",
   "metadata": {},
   "outputs": [],
   "source": [
    "# Task 3: Customer Segmentation\n",
    "from sklearn.preprocessing import StandardScaler\n",
    "from sklearn.metrics.pairwise import cosine_similarity\n",
    "\n",
    "# Step 1: Create Customer Profiles\n",
    "# Aggregate transaction data to get features for each customer\n",
    "customer_profiles = merged_df.groupby('CustomerID').agg({\n",
    "    'TotalValue': ['sum', 'mean'],  # Total spending and average transaction value\n",
    "    'Quantity': 'sum',             # Total quantity purchased\n",
    "    'ProductID': 'nunique',        # Number of unique products purchased\n",
    "    'Category': lambda x: x.mode()[0]  # Most common product category\n",
    "}).reset_index()\n",
    "\n",
    "# Rename columns for clarity\n",
    "customer_profiles.columns = ['CustomerID', 'TotalSpending', 'AvgTransactionValue', \n",
    "                             'TotalQuantity', 'UniqueProducts', 'PreferredCategory']\n",
    "\n",
    "# One-hot encode the PreferredCategory for similarity calculation\n",
    "customer_profiles = pd.get_dummies(customer_profiles, columns=['PreferredCategory'], drop_first=True)\n",
    "\n",
    "# Standardize the numerical features\n",
    "scaler = StandardScaler()\n",
    "numerical_features = ['TotalSpending', 'AvgTransactionValue', 'TotalQuantity', 'UniqueProducts']\n",
    "customer_profiles[numerical_features] = scaler.fit_transform(customer_profiles[numerical_features])\n",
    "\n",
    "# Step 2: Calculate Similarity\n",
    "# Compute pairwise cosine similarity for all customers\n",
    "customer_similarity = cosine_similarity(customer_profiles.drop(columns=['CustomerID']))\n",
    "customer_similarity_df = pd.DataFrame(customer_similarity, \n",
    "                                      index=customer_profiles['CustomerID'], \n",
    "                                      columns=customer_profiles['CustomerID'])\n",
    "\n",
    "# Step 3: Generate Top 3 Recommendations for Customers C0001-C0020\n",
    "lookalikes = {}\n",
    "target_customers = customer_profiles['CustomerID'][:20]\n",
    "\n",
    "for cust_id in target_customers:\n",
    "    # Get similarity scores for the target customer\n",
    "    similar_customers = customer_similarity_df[cust_id].sort_values(ascending=False).drop(cust_id)\n",
    "    \n",
    "    # Get top 3 similar customers\n",
    "    top_3 = similar_customers.head(3).reset_index()\n",
    "    top_3.columns = ['CustomerID', 'SimilarityScore']\n",
    "    lookalikes[cust_id] = top_3.values.tolist()\n",
    "\n",
    "# Step 4: Save Lookalikes to CSV\n",
    "lookalikes_df = pd.DataFrame.from_dict(lookalikes, orient='index', columns=['Lookalike1', 'Lookalike2', 'Lookalike3'])\n",
    "lookalikes_df.to_csv(\"/mnt/data/Lookalike.csv\", index_label=\"CustomerID\")\n",
    "\n",
    "lookalikes_df.head()\n"
   ]
  }
 ],
 "metadata": {
  "kernelspec": {
   "display_name": "Python 3 (ipykernel)",
   "language": "python",
   "name": "python3"
  },
  "language_info": {
   "codemirror_mode": {
    "name": "ipython",
    "version": 3
   },
   "file_extension": ".py",
   "mimetype": "text/x-python",
   "name": "python",
   "nbconvert_exporter": "python",
   "pygments_lexer": "ipython3",
   "version": "3.11.5"
  }
 },
 "nbformat": 4,
 "nbformat_minor": 5
}
