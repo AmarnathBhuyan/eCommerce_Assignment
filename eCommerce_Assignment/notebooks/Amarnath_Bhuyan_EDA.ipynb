{
 "cells": [
  {
   "cell_type": "code",
   "execution_count": null,
   "id": "b5364e6b",
   "metadata": {},
   "outputs": [],
   "source": [
    "# Exploratory Data Analysis (EDA)\n",
    "import pandas as pd\n",
    "\n",
    "# Load the datasets\n",
    "customers_path = \"/mnt/data/Customers.csv\"\n",
    "products_path = \"/mnt/data/Products.csv\"\n",
    "transactions_path = \"/mnt/data/APznzaYTaTOCLoIZRHqpTR__hQo0bnHq4w1476A7PfLucWoLz2NfP2vafuD-U72NdlNv5l63tSWhAsrT4PvoPC9AXR6seAaz1Pptc0D4Dhuc7a4UZ83Nhz18w2nRzQA6X2_pHqWHHh0xwxnpY5SOT32-J8IYMeTqI848Um46vm7yp1R4ATHAixWwp_7axdWFrOrU4c35nbSHAIuZr6RxVcl.csv\"\n",
    "\n",
    "# Read the CSV files into DataFrames\n",
    "customers_df = pd.read_csv(customers_path)\n",
    "products_df = pd.read_csv(products_path)\n",
    "transactions_df = pd.read_csv(transactions_path)\n",
    "\n",
    "# Check the first few rows of each dataset to understand their structure\n",
    "customers_head = customers_df.head()\n",
    "products_head = products_df.head()\n",
    "transactions_head = transactions_df.head()\n",
    "\n",
    "# Get basic information about each dataset\n",
    "customers_info = customers_df.info()\n",
    "products_info = products_df.info()\n",
    "transactions_info = transactions_df.info()\n",
    "\n",
    "# Check for missing values in each dataset\n",
    "customers_missing = customers_df.isnull().sum()\n",
    "products_missing = products_df.isnull().sum()\n",
    "transactions_missing = transactions_df.isnull().sum()\n",
    "\n",
    "(customers_head, products_head, transactions_head, \n",
    " customers_info, products_info, transactions_info,\n",
    " customers_missing, products_missing, transactions_missing)\n"
   ]
  }
 ],
 "metadata": {
  "kernelspec": {
   "display_name": "Python 3 (ipykernel)",
   "language": "python",
   "name": "python3"
  },
  "language_info": {
   "codemirror_mode": {
    "name": "ipython",
    "version": 3
   },
   "file_extension": ".py",
   "mimetype": "text/x-python",
   "name": "python",
   "nbconvert_exporter": "python",
   "pygments_lexer": "ipython3",
   "version": "3.11.5"
  }
 },
 "nbformat": 4,
 "nbformat_minor": 5
}
